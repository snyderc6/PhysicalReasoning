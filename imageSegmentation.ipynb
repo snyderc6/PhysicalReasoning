{
 "cells": [
  {
   "cell_type": "code",
   "execution_count": 1,
   "metadata": {},
   "outputs": [],
   "source": [
    "from findObjects import *\n",
    "from PIL import Image\n",
    "import copy\n",
    "from matplotlib import pyplot as plt\n",
    "from SolidObject import *"
   ]
  },
  {
   "cell_type": "code",
   "execution_count": 2,
   "metadata": {},
   "outputs": [
    {
     "name": "stdout",
     "output_type": "stream",
     "text": [
      "3\n"
     ]
    },
    {
     "data": {
      "image/png": "[encoded data removed]",
      "text/plain": [
       "<PIL.Image.Image image mode=L size=60x50 at 0x1FFF5B9D240>"
      ]
     },
     "metadata": {},
     "output_type": "display_data"
    },
    {
     "data": {
      "image/png": "[encoded data removed]",
      "text/plain": [
       "<PIL.Image.Image image mode=L size=60x50 at 0x1FFF5B9D208>"
      ]
     },
     "metadata": {},
     "output_type": "display_data"
    },
    {
     "data": {
      "image/png": "[encoded data removed]",
      "text/plain": [
       "<PIL.Image.Image image mode=L size=60x50 at 0x1FFF5B9D588>"
      ]
     },
     "metadata": {},
     "output_type": "display_data"
    },
    {
     "data": {
      "image/png": "[encoded data removed]",
      "text/plain": [
       "<PIL.Image.Image image mode=L size=60x50 at 0x1FFF5B9D208>"
      ]
     },
     "metadata": {},
     "output_type": "display_data"
    },
    {
     "data": {
      "image/png": "[encoded data removed]",
      "text/plain": [
       "<PIL.Image.Image image mode=L size=18x34 at 0x1FFF5B9D400>"
      ]
     },
     "metadata": {},
     "output_type": "display_data"
    },
    {
     "data": {
      "image/png": "[encoded data removed]",
      "text/plain": [
       "<PIL.Image.Image image mode=L size=4x3 at 0x1FFF5B9D240>"
      ]
     },
     "metadata": {},
     "output_type": "display_data"
    },
    {
     "data": {
      "image/png": "[encoded data removed]",
      "text/plain": [
       "<PIL.Image.Image image mode=L size=41x19 at 0x1FFF5B9D208>"
      ]
     },
     "metadata": {},
     "output_type": "display_data"
    },
    {
     "data": {
      "image/png": "[encoded data removed]",
      "text/plain": [
       "<PIL.Image.Image image mode=L size=30x42 at 0x1FFF5B9D400>"
      ]
     },
     "metadata": {},
     "output_type": "display_data"
    },
    {
     "data": {
      "image/png": "[encoded data removed]",
      "text/plain": [
       "<PIL.Image.Image image mode=L size=31x19 at 0x1FFF5B9D518>"
      ]
     },
     "metadata": {},
     "output_type": "display_data"
    }
   ],
   "source": [
    "problems = load_images()\n",
    "print(len(problems))\n",
    "\n",
    "image = np.array(problems[1])[0:50,0:60]\n",
    "\n",
    "objectGroups = []\n",
    "for color in [127,0]: #blue, black\n",
    "    colorImage = copy.copy(image)\n",
    "    colorImage[image!=color] = 255\n",
    "    colorImage[image==color] = 0\n",
    "\n",
    "    display(Image.fromarray(image))\n",
    "    display(Image.fromarray(colorImage))\n",
    "    objectGroups += [find_all_sub_objects(colorImage,0),]\n",
    "\n",
    "for group in objectGroups:\n",
    "    for i,o in enumerate(group):\n",
    "        o = 1-o\n",
    "        im = Image.fromarray(o*255).convert('L')\n",
    "        bbox = im.getbbox()\n",
    "        coords = (bbox[0],bbox[1])\n",
    "        im = im.crop(bbox)\n",
    "        \n",
    "        group[i] = [np.array(im)/255,coords]\n",
    "        display(im)"
   ]
  },
  {
   "cell_type": "code",
   "execution_count": 3,
   "metadata": {},
   "outputs": [
    {
     "name": "stdout",
     "output_type": "stream",
     "text": [
      "Created object shape= (34, 18) center= (17.0, 11.0) coords= (42, 4)\n",
      "Created object shape= (3, 4) center= (1.0, 2.0) coords= (56, 47)\n",
      "Created object shape= (19, 41) center= (5.0, 22.0) coords= (9, 4)\n",
      "Created object shape= (42, 30) center= (22.0, 11.0) coords= (4, 8)\n",
      "Created object shape= (19, 31) center= (11.0, 14.0) coords= (26, 31)\n",
      "(34, 18)\n"
     ]
    },
    {
     "data": {
      "image/png": "[encoded data removed]",
      "text/plain": [
       "<PIL.Image.Image image mode=RGB size=18x34 at 0x1FFF3AD1438>"
      ]
     },
     "metadata": {},
     "output_type": "display_data"
    }
   ],
   "source": [
    "blueObjects = [SolidObject(x[0],x[1]) for x in objectGroups[0]]\n",
    "blackObjects = [SolidObject(x[0],x[1]) for x in objectGroups[1]]\n",
    "\n",
    "print(blueObjects[0].image.shape)\n",
    "\n",
    "display(Image.fromarray((1-blueObjects[0].image)*255).convert('RGB'))"
   ]
  }
 ],
 "metadata": {
  "kernelspec": {
   "display_name": "Python [default]",
   "language": "python",
   "name": "python3"
  },
  "language_info": {
   "codemirror_mode": {
    "name": "ipython",
    "version": 3
   },
   "file_extension": ".py",
   "mimetype": "text/x-python",
   "name": "python",
   "nbconvert_exporter": "python",
   "pygments_lexer": "ipython3",
   "version": "3.6.6"
  }
 },
 "nbformat": 4,
 "nbformat_minor": 2
}
